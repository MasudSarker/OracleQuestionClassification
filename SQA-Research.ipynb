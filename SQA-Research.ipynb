{
 "cells": [
  {
   "cell_type": "code",
   "execution_count": 71,
   "metadata": {},
   "outputs": [
    {
     "name": "stdout",
     "output_type": "stream",
     "text": [
      "Requirement already satisfied: numpy in c:\\tools\\anaconda3\\lib\\site-packages (1.18.5)\n",
      "Requirement already satisfied: pandas in c:\\tools\\anaconda3\\lib\\site-packages (1.0.5)\n",
      "Requirement already satisfied: python-dateutil>=2.6.1 in c:\\tools\\anaconda3\\lib\\site-packages (from pandas) (2.8.1)\n",
      "Requirement already satisfied: pytz>=2017.2 in c:\\tools\\anaconda3\\lib\\site-packages (from pandas) (2020.1)\n",
      "Requirement already satisfied: numpy>=1.13.3 in c:\\tools\\anaconda3\\lib\\site-packages (from pandas) (1.18.5)\n",
      "Requirement already satisfied: six>=1.5 in c:\\tools\\anaconda3\\lib\\site-packages (from python-dateutil>=2.6.1->pandas) (1.15.0)\n",
      "Requirement already satisfied: tensorflow in c:\\tools\\anaconda3\\lib\\site-packages (2.3.1)\n",
      "Requirement already satisfied: numpy<1.19.0,>=1.16.0 in c:\\tools\\anaconda3\\lib\\site-packages (from tensorflow) (1.18.5)\n",
      "Requirement already satisfied: wrapt>=1.11.1 in c:\\tools\\anaconda3\\lib\\site-packages (from tensorflow) (1.11.2)\n",
      "Requirement already satisfied: google-pasta>=0.1.8 in c:\\tools\\anaconda3\\lib\\site-packages (from tensorflow) (0.2.0)\n",
      "Requirement already satisfied: tensorboard<3,>=2.3.0 in c:\\tools\\anaconda3\\lib\\site-packages (from tensorflow) (2.3.0)\n",
      "Requirement already satisfied: six>=1.12.0 in c:\\tools\\anaconda3\\lib\\site-packages (from tensorflow) (1.15.0)\n",
      "Requirement already satisfied: astunparse==1.6.3 in c:\\tools\\anaconda3\\lib\\site-packages (from tensorflow) (1.6.3)\n",
      "Requirement already satisfied: h5py<2.11.0,>=2.10.0 in c:\\tools\\anaconda3\\lib\\site-packages (from tensorflow) (2.10.0)\n",
      "Requirement already satisfied: keras-preprocessing<1.2,>=1.1.1 in c:\\tools\\anaconda3\\lib\\site-packages (from tensorflow) (1.1.2)\n",
      "Requirement already satisfied: absl-py>=0.7.0 in c:\\tools\\anaconda3\\lib\\site-packages (from tensorflow) (0.10.0)\n",
      "Requirement already satisfied: gast==0.3.3 in c:\\tools\\anaconda3\\lib\\site-packages (from tensorflow) (0.3.3)\n",
      "Requirement already satisfied: protobuf>=3.9.2 in c:\\tools\\anaconda3\\lib\\site-packages (from tensorflow) (3.13.0)\n",
      "Requirement already satisfied: termcolor>=1.1.0 in c:\\tools\\anaconda3\\lib\\site-packages (from tensorflow) (1.1.0)\n",
      "Requirement already satisfied: opt-einsum>=2.3.2 in c:\\tools\\anaconda3\\lib\\site-packages (from tensorflow) (3.3.0)\n",
      "Requirement already satisfied: tensorflow-estimator<2.4.0,>=2.3.0 in c:\\tools\\anaconda3\\lib\\site-packages (from tensorflow) (2.3.0)\n",
      "Requirement already satisfied: grpcio>=1.8.6 in c:\\tools\\anaconda3\\lib\\site-packages (from tensorflow) (1.33.1)\n",
      "Requirement already satisfied: wheel>=0.26 in c:\\tools\\anaconda3\\lib\\site-packages (from tensorflow) (0.34.2)\n",
      "Requirement already satisfied: google-auth-oauthlib<0.5,>=0.4.1 in c:\\tools\\anaconda3\\lib\\site-packages (from tensorboard<3,>=2.3.0->tensorflow) (0.4.1)\n",
      "Requirement already satisfied: requests<3,>=2.21.0 in c:\\tools\\anaconda3\\lib\\site-packages (from tensorboard<3,>=2.3.0->tensorflow) (2.24.0)\n",
      "Requirement already satisfied: tensorboard-plugin-wit>=1.6.0 in c:\\tools\\anaconda3\\lib\\site-packages (from tensorboard<3,>=2.3.0->tensorflow) (1.7.0)\n",
      "Requirement already satisfied: markdown>=2.6.8 in c:\\tools\\anaconda3\\lib\\site-packages (from tensorboard<3,>=2.3.0->tensorflow) (3.3.2)\n",
      "Requirement already satisfied: setuptools>=41.0.0 in c:\\tools\\anaconda3\\lib\\site-packages (from tensorboard<3,>=2.3.0->tensorflow) (49.2.0.post20200714)\n",
      "Requirement already satisfied: google-auth<2,>=1.6.3 in c:\\tools\\anaconda3\\lib\\site-packages (from tensorboard<3,>=2.3.0->tensorflow) (1.22.1)\n",
      "Requirement already satisfied: werkzeug>=0.11.15 in c:\\tools\\anaconda3\\lib\\site-packages (from tensorboard<3,>=2.3.0->tensorflow) (1.0.1)\n",
      "Requirement already satisfied: requests-oauthlib>=0.7.0 in c:\\tools\\anaconda3\\lib\\site-packages (from google-auth-oauthlib<0.5,>=0.4.1->tensorboard<3,>=2.3.0->tensorflow) (1.3.0)\n",
      "Requirement already satisfied: idna<3,>=2.5 in c:\\tools\\anaconda3\\lib\\site-packages (from requests<3,>=2.21.0->tensorboard<3,>=2.3.0->tensorflow) (2.10)\n",
      "Requirement already satisfied: urllib3!=1.25.0,!=1.25.1,<1.26,>=1.21.1 in c:\\tools\\anaconda3\\lib\\site-packages (from requests<3,>=2.21.0->tensorboard<3,>=2.3.0->tensorflow) (1.25.9)\n",
      "Requirement already satisfied: chardet<4,>=3.0.2 in c:\\tools\\anaconda3\\lib\\site-packages (from requests<3,>=2.21.0->tensorboard<3,>=2.3.0->tensorflow) (3.0.4)\n",
      "Requirement already satisfied: certifi>=2017.4.17 in c:\\tools\\anaconda3\\lib\\site-packages (from requests<3,>=2.21.0->tensorboard<3,>=2.3.0->tensorflow) (2020.6.20)\n",
      "Requirement already satisfied: cachetools<5.0,>=2.0.0 in c:\\tools\\anaconda3\\lib\\site-packages (from google-auth<2,>=1.6.3->tensorboard<3,>=2.3.0->tensorflow) (4.1.1)\n",
      "Requirement already satisfied: pyasn1-modules>=0.2.1 in c:\\tools\\anaconda3\\lib\\site-packages (from google-auth<2,>=1.6.3->tensorboard<3,>=2.3.0->tensorflow) (0.2.8)\n",
      "Requirement already satisfied: rsa<5,>=3.1.4; python_version >= \"3.5\" in c:\\tools\\anaconda3\\lib\\site-packages (from google-auth<2,>=1.6.3->tensorboard<3,>=2.3.0->tensorflow) (4.6)\n",
      "Requirement already satisfied: oauthlib>=3.0.0 in c:\\tools\\anaconda3\\lib\\site-packages (from requests-oauthlib>=0.7.0->google-auth-oauthlib<0.5,>=0.4.1->tensorboard<3,>=2.3.0->tensorflow) (3.1.0)\n",
      "Requirement already satisfied: pyasn1<0.5.0,>=0.4.6 in c:\\tools\\anaconda3\\lib\\site-packages (from pyasn1-modules>=0.2.1->google-auth<2,>=1.6.3->tensorboard<3,>=2.3.0->tensorflow) (0.4.8)\n",
      "Requirement already satisfied: imblearn in c:\\tools\\anaconda3\\lib\\site-packages (0.0)\n",
      "Requirement already satisfied: imbalanced-learn in c:\\tools\\anaconda3\\lib\\site-packages (from imblearn) (0.7.0)\n",
      "Requirement already satisfied: scikit-learn>=0.23 in c:\\tools\\anaconda3\\lib\\site-packages (from imbalanced-learn->imblearn) (0.23.1)\n",
      "Requirement already satisfied: scipy>=0.19.1 in c:\\tools\\anaconda3\\lib\\site-packages (from imbalanced-learn->imblearn) (1.5.0)\n",
      "Requirement already satisfied: numpy>=1.13.3 in c:\\tools\\anaconda3\\lib\\site-packages (from imbalanced-learn->imblearn) (1.18.5)\n",
      "Requirement already satisfied: joblib>=0.11 in c:\\tools\\anaconda3\\lib\\site-packages (from imbalanced-learn->imblearn) (0.16.0)\n",
      "Requirement already satisfied: threadpoolctl>=2.0.0 in c:\\tools\\anaconda3\\lib\\site-packages (from scikit-learn>=0.23->imbalanced-learn->imblearn) (2.1.0)\n",
      "Requirement already satisfied: sklearn in c:\\tools\\anaconda3\\lib\\site-packages (0.0)\n",
      "Requirement already satisfied: scikit-learn in c:\\tools\\anaconda3\\lib\\site-packages (from sklearn) (0.23.1)\n",
      "Requirement already satisfied: joblib>=0.11 in c:\\tools\\anaconda3\\lib\\site-packages (from scikit-learn->sklearn) (0.16.0)\n",
      "Requirement already satisfied: scipy>=0.19.1 in c:\\tools\\anaconda3\\lib\\site-packages (from scikit-learn->sklearn) (1.5.0)\n",
      "Requirement already satisfied: numpy>=1.13.3 in c:\\tools\\anaconda3\\lib\\site-packages (from scikit-learn->sklearn) (1.18.5)\n",
      "Requirement already satisfied: threadpoolctl>=2.0.0 in c:\\tools\\anaconda3\\lib\\site-packages (from scikit-learn->sklearn) (2.1.0)\n",
      "Requirement already satisfied: matplotlib in c:\\tools\\anaconda3\\lib\\site-packages (3.2.2)\n",
      "Requirement already satisfied: numpy>=1.11 in c:\\tools\\anaconda3\\lib\\site-packages (from matplotlib) (1.18.5)\n",
      "Requirement already satisfied: kiwisolver>=1.0.1 in c:\\tools\\anaconda3\\lib\\site-packages (from matplotlib) (1.2.0)\n",
      "Requirement already satisfied: python-dateutil>=2.1 in c:\\tools\\anaconda3\\lib\\site-packages (from matplotlib) (2.8.1)\n",
      "Requirement already satisfied: pyparsing!=2.0.4,!=2.1.2,!=2.1.6,>=2.0.1 in c:\\tools\\anaconda3\\lib\\site-packages (from matplotlib) (2.4.7)\n",
      "Requirement already satisfied: cycler>=0.10 in c:\\tools\\anaconda3\\lib\\site-packages (from matplotlib) (0.10.0)\n",
      "Requirement already satisfied: six>=1.5 in c:\\tools\\anaconda3\\lib\\site-packages (from python-dateutil>=2.1->matplotlib) (1.15.0)\n",
      "Requirement already satisfied: xgboost in c:\\tools\\anaconda3\\lib\\site-packages (1.2.1)\n",
      "Requirement already satisfied: scipy in c:\\tools\\anaconda3\\lib\\site-packages (from xgboost) (1.5.0)\n",
      "Requirement already satisfied: numpy in c:\\tools\\anaconda3\\lib\\site-packages (from xgboost) (1.18.5)\n",
      "Requirement already satisfied: pyod in c:\\tools\\anaconda3\\lib\\site-packages (0.8.3)\n",
      "Requirement already satisfied: suod in c:\\tools\\anaconda3\\lib\\site-packages (from pyod) (0.0.4)\n",
      "Requirement already satisfied: numpy>=1.13 in c:\\tools\\anaconda3\\lib\\site-packages (from pyod) (1.18.5)\n",
      "Requirement already satisfied: pandas>=0.25 in c:\\tools\\anaconda3\\lib\\site-packages (from pyod) (1.0.5)\n",
      "Requirement already satisfied: joblib in c:\\tools\\anaconda3\\lib\\site-packages (from pyod) (0.16.0)\n",
      "Requirement already satisfied: matplotlib in c:\\tools\\anaconda3\\lib\\site-packages (from pyod) (3.2.2)\n",
      "Requirement already satisfied: scipy>=0.19.1 in c:\\tools\\anaconda3\\lib\\site-packages (from pyod) (1.5.0)\n",
      "Requirement already satisfied: combo in c:\\tools\\anaconda3\\lib\\site-packages (from pyod) (0.1.1)\n",
      "Requirement already satisfied: scikit-learn>=0.19.1 in c:\\tools\\anaconda3\\lib\\site-packages (from pyod) (0.23.1)\n",
      "Requirement already satisfied: statsmodels in c:\\tools\\anaconda3\\lib\\site-packages (from pyod) (0.11.1)\n",
      "Requirement already satisfied: six in c:\\tools\\anaconda3\\lib\\site-packages (from pyod) (1.15.0)\n",
      "Requirement already satisfied: numba>=0.35 in c:\\tools\\anaconda3\\lib\\site-packages (from pyod) (0.50.1)\n",
      "Requirement already satisfied: pytz>=2017.2 in c:\\tools\\anaconda3\\lib\\site-packages (from pandas>=0.25->pyod) (2020.1)\n",
      "Requirement already satisfied: python-dateutil>=2.6.1 in c:\\tools\\anaconda3\\lib\\site-packages (from pandas>=0.25->pyod) (2.8.1)\n",
      "Requirement already satisfied: kiwisolver>=1.0.1 in c:\\tools\\anaconda3\\lib\\site-packages (from matplotlib->pyod) (1.2.0)\n",
      "Requirement already satisfied: pyparsing!=2.0.4,!=2.1.2,!=2.1.6,>=2.0.1 in c:\\tools\\anaconda3\\lib\\site-packages (from matplotlib->pyod) (2.4.7)\n",
      "Requirement already satisfied: cycler>=0.10 in c:\\tools\\anaconda3\\lib\\site-packages (from matplotlib->pyod) (0.10.0)\n",
      "Requirement already satisfied: threadpoolctl>=2.0.0 in c:\\tools\\anaconda3\\lib\\site-packages (from scikit-learn>=0.19.1->pyod) (2.1.0)\n",
      "Requirement already satisfied: patsy>=0.5 in c:\\tools\\anaconda3\\lib\\site-packages (from statsmodels->pyod) (0.5.1)\n",
      "Requirement already satisfied: llvmlite<0.34,>=0.33.0.dev0 in c:\\tools\\anaconda3\\lib\\site-packages (from numba>=0.35->pyod) (0.33.0+1.g022ab0f)\n",
      "Requirement already satisfied: setuptools in c:\\tools\\anaconda3\\lib\\site-packages (from numba>=0.35->pyod) (49.2.0.post20200714)\n"
     ]
    },
    {
     "name": "stdout",
     "output_type": "stream",
     "text": [
      "Requirement already satisfied: lightgbm in c:\\tools\\anaconda3\\lib\\site-packages (3.0.0)\n",
      "Requirement already satisfied: numpy in c:\\tools\\anaconda3\\lib\\site-packages (from lightgbm) (1.18.5)\n",
      "Requirement already satisfied: scipy in c:\\tools\\anaconda3\\lib\\site-packages (from lightgbm) (1.5.0)\n",
      "Requirement already satisfied: scikit-learn!=0.22.0 in c:\\tools\\anaconda3\\lib\\site-packages (from lightgbm) (0.23.1)\n",
      "Requirement already satisfied: threadpoolctl>=2.0.0 in c:\\tools\\anaconda3\\lib\\site-packages (from scikit-learn!=0.22.0->lightgbm) (2.1.0)\n",
      "Requirement already satisfied: joblib>=0.11 in c:\\tools\\anaconda3\\lib\\site-packages (from scikit-learn!=0.22.0->lightgbm) (0.16.0)\n",
      "Requirement already satisfied: catboost in c:\\tools\\anaconda3\\lib\\site-packages (0.24.2)\n",
      "Requirement already satisfied: plotly in c:\\tools\\anaconda3\\lib\\site-packages (from catboost) (4.12.0)\n",
      "Requirement already satisfied: graphviz in c:\\tools\\anaconda3\\lib\\site-packages (from catboost) (0.14.2)\n",
      "Requirement already satisfied: scipy in c:\\tools\\anaconda3\\lib\\site-packages (from catboost) (1.5.0)\n",
      "Requirement already satisfied: matplotlib in c:\\tools\\anaconda3\\lib\\site-packages (from catboost) (3.2.2)\n",
      "Requirement already satisfied: six in c:\\tools\\anaconda3\\lib\\site-packages (from catboost) (1.15.0)\n",
      "Requirement already satisfied: numpy>=1.16.0 in c:\\tools\\anaconda3\\lib\\site-packages (from catboost) (1.18.5)\n",
      "Requirement already satisfied: pandas>=0.24.0 in c:\\tools\\anaconda3\\lib\\site-packages (from catboost) (1.0.5)\n",
      "Requirement already satisfied: retrying>=1.3.3 in c:\\tools\\anaconda3\\lib\\site-packages (from plotly->catboost) (1.3.3)\n",
      "Requirement already satisfied: pyparsing!=2.0.4,!=2.1.2,!=2.1.6,>=2.0.1 in c:\\tools\\anaconda3\\lib\\site-packages (from matplotlib->catboost) (2.4.7)\n",
      "Requirement already satisfied: cycler>=0.10 in c:\\tools\\anaconda3\\lib\\site-packages (from matplotlib->catboost) (0.10.0)\n",
      "Requirement already satisfied: kiwisolver>=1.0.1 in c:\\tools\\anaconda3\\lib\\site-packages (from matplotlib->catboost) (1.2.0)\n",
      "Requirement already satisfied: python-dateutil>=2.1 in c:\\tools\\anaconda3\\lib\\site-packages (from matplotlib->catboost) (2.8.1)\n",
      "Requirement already satisfied: pytz>=2017.2 in c:\\tools\\anaconda3\\lib\\site-packages (from pandas>=0.24.0->catboost) (2020.1)\n",
      "Requirement already satisfied: plotly in c:\\tools\\anaconda3\\lib\\site-packages (4.12.0)\n",
      "Requirement already satisfied: six in c:\\tools\\anaconda3\\lib\\site-packages (from plotly) (1.15.0)\n",
      "Requirement already satisfied: retrying>=1.3.3 in c:\\tools\\anaconda3\\lib\\site-packages (from plotly) (1.3.3)\n",
      "Requirement already satisfied: seaborn in c:\\tools\\anaconda3\\lib\\site-packages (0.10.1)\n",
      "Requirement already satisfied: scipy>=1.0.1 in c:\\tools\\anaconda3\\lib\\site-packages (from seaborn) (1.5.0)\n",
      "Requirement already satisfied: matplotlib>=2.1.2 in c:\\tools\\anaconda3\\lib\\site-packages (from seaborn) (3.2.2)\n",
      "Requirement already satisfied: pandas>=0.22.0 in c:\\tools\\anaconda3\\lib\\site-packages (from seaborn) (1.0.5)\n",
      "Requirement already satisfied: numpy>=1.13.3 in c:\\tools\\anaconda3\\lib\\site-packages (from seaborn) (1.18.5)\n",
      "Requirement already satisfied: python-dateutil>=2.1 in c:\\tools\\anaconda3\\lib\\site-packages (from matplotlib>=2.1.2->seaborn) (2.8.1)\n",
      "Requirement already satisfied: cycler>=0.10 in c:\\tools\\anaconda3\\lib\\site-packages (from matplotlib>=2.1.2->seaborn) (0.10.0)\n",
      "Requirement already satisfied: kiwisolver>=1.0.1 in c:\\tools\\anaconda3\\lib\\site-packages (from matplotlib>=2.1.2->seaborn) (1.2.0)\n",
      "Requirement already satisfied: pyparsing!=2.0.4,!=2.1.2,!=2.1.6,>=2.0.1 in c:\\tools\\anaconda3\\lib\\site-packages (from matplotlib>=2.1.2->seaborn) (2.4.7)\n",
      "Requirement already satisfied: pytz>=2017.2 in c:\\tools\\anaconda3\\lib\\site-packages (from pandas>=0.22.0->seaborn) (2020.1)\n",
      "Requirement already satisfied: six>=1.5 in c:\\tools\\anaconda3\\lib\\site-packages (from python-dateutil>=2.1->matplotlib>=2.1.2->seaborn) (1.15.0)\n",
      "Requirement already satisfied: nltk in c:\\tools\\anaconda3\\lib\\site-packages (3.5)\n",
      "Requirement already satisfied: click in c:\\tools\\anaconda3\\lib\\site-packages (from nltk) (7.1.2)\n",
      "Requirement already satisfied: tqdm in c:\\tools\\anaconda3\\lib\\site-packages (from nltk) (4.47.0)\n",
      "Requirement already satisfied: regex in c:\\tools\\anaconda3\\lib\\site-packages (from nltk) (2020.6.8)\n",
      "Requirement already satisfied: joblib in c:\\tools\\anaconda3\\lib\\site-packages (from nltk) (0.16.0)\n"
     ]
    }
   ],
   "source": [
    "import sys\n",
    "!{sys.executable} -m pip install numpy\n",
    "!{sys.executable} -m pip install pandas\n",
    "!{sys.executable} -m pip install tensorflow\n",
    "!{sys.executable} -m pip install imblearn\n",
    "!{sys.executable} -m pip install sklearn\n",
    "!{sys.executable} -m pip install matplotlib\n",
    "!{sys.executable} -m pip install xgboost\n",
    "!{sys.executable} -m pip install pyod\n",
    "!{sys.executable} -m pip install lightgbm\n",
    "!{sys.executable} -m pip install catboost \n",
    "!{sys.executable} -m pip install plotly \n",
    "!{sys.executable} -m pip install seaborn \n",
    "!{sys.executable} -m pip install nltk "
   ]
  },
  {
   "cell_type": "code",
   "execution_count": 91,
   "metadata": {},
   "outputs": [
    {
     "name": "stderr",
     "output_type": "stream",
     "text": [
      "[nltk_data] Downloading package stopwords to\n",
      "[nltk_data]     C:\\Users\\monju\\AppData\\Roaming\\nltk_data...\n",
      "[nltk_data]   Package stopwords is already up-to-date!\n"
     ]
    },
    {
     "data": {
      "text/plain": [
       "True"
      ]
     },
     "execution_count": 91,
     "metadata": {},
     "output_type": "execute_result"
    }
   ],
   "source": [
    "import glob\n",
    "import time\n",
    "import pandas as pd\n",
    "import numpy as np\n",
    "# from xml.dom import minidom\n",
    "from nltk import ngrams\n",
    "from nltk.tokenize import sent_tokenize\n",
    "import nltk\n",
    "import matplotlib.pyplot as plt\n",
    "from sklearn.preprocessing import StandardScaler, RobustScaler\n",
    "from sklearn.model_selection import train_test_split\n",
    "from sklearn.metrics import precision_score, recall_score, f1_score\n",
    "from sklearn.metrics import roc_curve,roc_auc_score, precision_recall_curve, average_precision_score\n",
    "from sklearn.linear_model import LogisticRegression\n",
    "from sklearn import svm\n",
    "from sklearn.svm import SVC\n",
    "from sklearn.tree import DecisionTreeClassifier\n",
    "from sklearn.ensemble import RandomForestClassifier\n",
    "import csv\n",
    "from sklearn.feature_extraction.text import CountVectorizer\n",
    "from sklearn.feature_extraction.text import TfidfVectorizer\n",
    "from sklearn.metrics import accuracy_score\n",
    "\n",
    "\n",
    "import re\n",
    "from nltk.corpus import stopwords\n",
    "from nltk.tokenize import ToktokTokenizer\n",
    "from nltk.stem.snowball import SnowballStemmer\n",
    "\n",
    "import nltk\n",
    "nltk.download('stopwords')"
   ]
  },
  {
   "cell_type": "code",
   "execution_count": 92,
   "metadata": {
    "scrolled": true
   },
   "outputs": [
    {
     "data": {
      "text/html": [
       "<div>\n",
       "<style scoped>\n",
       "    .dataframe tbody tr th:only-of-type {\n",
       "        vertical-align: middle;\n",
       "    }\n",
       "\n",
       "    .dataframe tbody tr th {\n",
       "        vertical-align: top;\n",
       "    }\n",
       "\n",
       "    .dataframe thead th {\n",
       "        text-align: right;\n",
       "    }\n",
       "</style>\n",
       "<table border=\"1\" class=\"dataframe\">\n",
       "  <thead>\n",
       "    <tr style=\"text-align: right;\">\n",
       "      <th></th>\n",
       "      <th>Id</th>\n",
       "      <th>PostTypeId</th>\n",
       "      <th>AcceptedAnswerId</th>\n",
       "      <th>creationDate</th>\n",
       "      <th>CurrentDate</th>\n",
       "      <th>Days</th>\n",
       "      <th>Score</th>\n",
       "      <th>ViewCount</th>\n",
       "      <th>Body</th>\n",
       "      <th>LastActivityDate</th>\n",
       "      <th>Title</th>\n",
       "      <th>Tags</th>\n",
       "      <th>AnswerCount</th>\n",
       "      <th>CommentCount</th>\n",
       "      <th>Class</th>\n",
       "    </tr>\n",
       "  </thead>\n",
       "  <tbody>\n",
       "    <tr>\n",
       "      <th>0</th>\n",
       "      <td>40586</td>\n",
       "      <td>1</td>\n",
       "      <td>40593.0</td>\n",
       "      <td>2/9/2008</td>\n",
       "      <td>23-10-2020</td>\n",
       "      <td>4434</td>\n",
       "      <td>2</td>\n",
       "      <td>2948</td>\n",
       "      <td>&lt;p&gt;In a try/except block, how do I extract the...</td>\n",
       "      <td>11/22/2016 6:58</td>\n",
       "      <td>cx_Oracle: how do I get the ORA-xxxxx error nu...</td>\n",
       "      <td>&lt;python&gt;&lt;oracle&gt;&lt;cx-oracle&gt;</td>\n",
       "      <td>1</td>\n",
       "      <td>0</td>\n",
       "      <td>0</td>\n",
       "    </tr>\n",
       "    <tr>\n",
       "      <th>1</th>\n",
       "      <td>16094747</td>\n",
       "      <td>1</td>\n",
       "      <td>16095170.0</td>\n",
       "      <td>18-04-2013</td>\n",
       "      <td>23-10-2020</td>\n",
       "      <td>2745</td>\n",
       "      <td>4</td>\n",
       "      <td>18417</td>\n",
       "      <td>&lt;p&gt;I am facing the below oracle error for the ...</td>\n",
       "      <td>4/19/2013 1:24</td>\n",
       "      <td>format code appears twice error while insertin...</td>\n",
       "      <td>&lt;c#&gt;&lt;oracle&gt;&lt;datetime&gt;&lt;insert-query&gt;</td>\n",
       "      <td>1</td>\n",
       "      <td>2</td>\n",
       "      <td>1</td>\n",
       "    </tr>\n",
       "    <tr>\n",
       "      <th>2</th>\n",
       "      <td>16104218</td>\n",
       "      <td>1</td>\n",
       "      <td>16104302.0</td>\n",
       "      <td>19-04-2013</td>\n",
       "      <td>23-10-2020</td>\n",
       "      <td>2744</td>\n",
       "      <td>13</td>\n",
       "      <td>16907</td>\n",
       "      <td>&lt;p&gt;I'm doing something like&lt;/p&gt;\\n\\n&lt;pre&gt;&lt;code&gt;...</td>\n",
       "      <td>11/12/2014 8:41</td>\n",
       "      <td>ORA-01745 error while executing parameterized ...</td>\n",
       "      <td>&lt;c#&gt;&lt;.net&gt;&lt;oracle&gt;</td>\n",
       "      <td>2</td>\n",
       "      <td>6</td>\n",
       "      <td>1</td>\n",
       "    </tr>\n",
       "    <tr>\n",
       "      <th>3</th>\n",
       "      <td>16165438</td>\n",
       "      <td>1</td>\n",
       "      <td>NaN</td>\n",
       "      <td>23-04-2013</td>\n",
       "      <td>23-10-2020</td>\n",
       "      <td>2740</td>\n",
       "      <td>1</td>\n",
       "      <td>55</td>\n",
       "      <td>&lt;p&gt;When I try to execute below query im gettin...</td>\n",
       "      <td>4/23/2013 9:33</td>\n",
       "      <td>Dynamic Query error</td>\n",
       "      <td>&lt;plsql&gt;&lt;oracle11g&gt;</td>\n",
       "      <td>1</td>\n",
       "      <td>1</td>\n",
       "      <td>0</td>\n",
       "    </tr>\n",
       "    <tr>\n",
       "      <th>4</th>\n",
       "      <td>32228719</td>\n",
       "      <td>1</td>\n",
       "      <td>NaN</td>\n",
       "      <td>26-08-2015</td>\n",
       "      <td>23-10-2020</td>\n",
       "      <td>1885</td>\n",
       "      <td>1</td>\n",
       "      <td>303</td>\n",
       "      <td>&lt;p&gt;Having the weirdest problem ever. I do have...</td>\n",
       "      <td>8/28/2015 8:30</td>\n",
       "      <td>Missing comma error error inserting sql throug...</td>\n",
       "      <td>&lt;sql&gt;&lt;vba&gt;&lt;ms-access&gt;&lt;oracle11g&gt;&lt;ms-access-2007&gt;</td>\n",
       "      <td>1</td>\n",
       "      <td>4</td>\n",
       "      <td>0</td>\n",
       "    </tr>\n",
       "  </tbody>\n",
       "</table>\n",
       "</div>"
      ],
      "text/plain": [
       "         Id  PostTypeId  AcceptedAnswerId creationDate CurrentDate  Days  \\\n",
       "0     40586           1           40593.0     2/9/2008  23-10-2020  4434   \n",
       "1  16094747           1        16095170.0   18-04-2013  23-10-2020  2745   \n",
       "2  16104218           1        16104302.0   19-04-2013  23-10-2020  2744   \n",
       "3  16165438           1               NaN   23-04-2013  23-10-2020  2740   \n",
       "4  32228719           1               NaN   26-08-2015  23-10-2020  1885   \n",
       "\n",
       "   Score  ViewCount                                               Body  \\\n",
       "0      2       2948  <p>In a try/except block, how do I extract the...   \n",
       "1      4      18417  <p>I am facing the below oracle error for the ...   \n",
       "2     13      16907  <p>I'm doing something like</p>\\n\\n<pre><code>...   \n",
       "3      1         55  <p>When I try to execute below query im gettin...   \n",
       "4      1        303  <p>Having the weirdest problem ever. I do have...   \n",
       "\n",
       "  LastActivityDate                                              Title  \\\n",
       "0  11/22/2016 6:58  cx_Oracle: how do I get the ORA-xxxxx error nu...   \n",
       "1   4/19/2013 1:24  format code appears twice error while insertin...   \n",
       "2  11/12/2014 8:41  ORA-01745 error while executing parameterized ...   \n",
       "3   4/23/2013 9:33                                Dynamic Query error   \n",
       "4   8/28/2015 8:30  Missing comma error error inserting sql throug...   \n",
       "\n",
       "                                               Tags  AnswerCount  \\\n",
       "0                       <python><oracle><cx-oracle>            1   \n",
       "1              <c#><oracle><datetime><insert-query>            1   \n",
       "2                                <c#><.net><oracle>            2   \n",
       "3                                <plsql><oracle11g>            1   \n",
       "4  <sql><vba><ms-access><oracle11g><ms-access-2007>            1   \n",
       "\n",
       "   CommentCount  Class  \n",
       "0             0      0  \n",
       "1             2      1  \n",
       "2             6      1  \n",
       "3             1      0  \n",
       "4             4      0  "
      ]
     },
     "execution_count": 92,
     "metadata": {},
     "output_type": "execute_result"
    }
   ],
   "source": [
    "df = pd.read_csv(\"Dataset/RowDataSetTest.csv\")\n",
    "df.head()"
   ]
  },
  {
   "cell_type": "code",
   "execution_count": 93,
   "metadata": {},
   "outputs": [
    {
     "data": {
      "text/plain": [
       "Text(0.5, 1.0, 'Ratio of missing values per columns')"
      ]
     },
     "execution_count": 93,
     "metadata": {},
     "output_type": "execute_result"
    },
    {
     "data": {
      "image/png": "[encoded data removed]",
      "text/plain": [
       "<Figure size 360x360 with 1 Axes>"
      ]
     },
     "metadata": {
      "needs_background": "light"
     },
     "output_type": "display_data"
    }
   ],
   "source": [
    "plt.figure(figsize=(5, 5))\n",
    "df.isnull().mean(axis=0).plot.barh()\n",
    "plt.title(\"Ratio of missing values per columns\")"
   ]
  },
  {
   "cell_type": "code",
   "execution_count": 94,
   "metadata": {},
   "outputs": [],
   "source": [
    "\n",
    "\n",
    "tokenizer = ToktokTokenizer()\n",
    "stemmer = SnowballStemmer('english')\n",
    "stop_words = set(stopwords.words('english'))"
   ]
  },
  {
   "cell_type": "code",
   "execution_count": 95,
   "metadata": {},
   "outputs": [],
   "source": [
    "def remove_html(text):\n",
    "    # Remove html and convert to lowercase\n",
    "    return re.sub(r\"\\<[^\\>]\\>\", \"\", text).lower()\n",
    "\n",
    "def remove_stopwords(text):    \n",
    "    # tokenize the text\n",
    "    words = tokenizer.tokenize(text)\n",
    "    \n",
    "    filtered = [w for w in words if not w in stop_words]\n",
    "    return ' '.join(map(str, filtered))\n",
    "\n",
    "def remove_punc(text):\n",
    "    #tokenize\n",
    "    tokens = tokenizer.tokenize(text)\n",
    "    \n",
    "    # remove punctuations from each token\n",
    "    tokens = list(map(lambda token: re.sub(r\"[^A-Za-z0-9]+\", \" \", token).strip(), tokens))\n",
    "    \n",
    "    # remove empty strings from tokens\n",
    "    tokens = list(filter(lambda token: token, tokens))\n",
    "    \n",
    "    return ' '.join(map(str, tokens))\n",
    "\n",
    "def stem_text(text):\n",
    "    #tokenize\n",
    "    tokens = tokenizer.tokenize(text)\n",
    "    \n",
    "    # stem each token\n",
    "    tokens = list(map(lambda token: stemmer.stem(token), tokens))\n",
    "    \n",
    "    return ' '.join(map(str, tokens))\n"
   ]
  },
  {
   "cell_type": "code",
   "execution_count": 96,
   "metadata": {},
   "outputs": [
    {
     "name": "stdout",
     "output_type": "stream",
     "text": [
      "Wall time: 83 ms\n"
     ]
    }
   ],
   "source": [
    "%%time\n",
    "# apply preprocessing to title and body\n",
    "## Remove puntuation and preposition from text(title and body)\n",
    "df['Title'] = df['Title'].apply(lambda x: remove_html(x))\n",
    "df['Title'] = df['Title'].apply(lambda x: remove_stopwords(x))\n",
    "df['Title'] = df['Title'].apply(lambda x: remove_punc(x))\n",
    "df['Title'] = df['Title'].apply(lambda x: stem_text(x))"
   ]
  },
  {
   "cell_type": "code",
   "execution_count": 97,
   "metadata": {},
   "outputs": [
    {
     "name": "stdout",
     "output_type": "stream",
     "text": [
      "Wall time: 1.26 s\n"
     ]
    }
   ],
   "source": [
    "%%time\n",
    "# apply preprocessing to title and body\n",
    "df['Body'] = df['Body'].apply(lambda x: remove_html(x))\n",
    "df['Body'] = df['Body'].apply(lambda x: remove_stopwords(x))\n",
    "df['Body'] = df['Body'].apply(lambda x: remove_punc(x))\n",
    "df['Body'] = df['Body'].apply(lambda x: stem_text(x))\n"
   ]
  },
  {
   "cell_type": "code",
   "execution_count": 98,
   "metadata": {},
   "outputs": [],
   "source": [
    "vectorizer_title = TfidfVectorizer(analyzer = 'word',\n",
    "                                       min_df=0.0,\n",
    "                                       max_df = 1.0,\n",
    "                                       strip_accents = None,\n",
    "                                       encoding = 'utf-8', \n",
    "                                       preprocessor=None,\n",
    "                                       token_pattern=r\"(?u)\\S\\S+\", # Need to repeat token pattern\n",
    "                                       max_features=4)"
   ]
  },
  {
   "cell_type": "code",
   "execution_count": 99,
   "metadata": {},
   "outputs": [],
   "source": [
    "vectorizer_body = TfidfVectorizer(\n",
    "                                    analyzer = 'word', \n",
    "                                    strip_accents = None, \n",
    "                                    encoding = 'utf-8', \n",
    "                                    preprocessor=None, \n",
    "                                    max_features=10)"
   ]
  },
  {
   "cell_type": "code",
   "execution_count": 100,
   "metadata": {},
   "outputs": [],
   "source": [
    "vectorizer = CountVectorizer( min_df=2, max_df=0.7, stop_words=stopwords.words('english'))\n",
    " \n",
    "texttile = vectorizer.fit_transform(df['Title'].values.astype('U')).toarray()\n",
    "textbody = vectorizer.fit_transform(df['Body'].values.astype('U')).toarray()\n",
    "# print(posts)\n",
    "\n",
    "texttile=pd.DataFrame(texttile)\n",
    "\n",
    "textbody=pd.DataFrame(textbody)\n",
    "\n",
    "\n",
    "df=pd.concat([df,texttile,textbody],axis=1)"
   ]
  },
  {
   "cell_type": "code",
   "execution_count": 101,
   "metadata": {},
   "outputs": [],
   "source": [
    "## Remove less important features\n",
    "df = df.drop(['Body', 'Title','Tags','creationDate','LastActivityDate','CurrentDate','AcceptedAnswerId'],axis = 1,inplace=False)\n",
    "\n",
    "## Scalling column using RobustScaler\n",
    "df['Id'] = RobustScaler().fit_transform(df['Id'].values.reshape(-1,1))\n",
    "df['PostTypeId'] = RobustScaler().fit_transform(df['PostTypeId'].values.reshape(-1,1))\n",
    "#df['creationDate'] = RobustScaler().fit_transform(df['creationDate'].values.reshape(-1,1))\n",
    "df['Days'] = RobustScaler().fit_transform(df['Days'].values.reshape(-1,1))\n",
    "df['Score'] = RobustScaler().fit_transform(df['Score'].values.reshape(-1,1))\n",
    "df['ViewCount'] = RobustScaler().fit_transform(df['ViewCount'].values.reshape(-1,1))\n",
    "#df['LastActivityDate'] = RobustScaler().fit_transform(df['LastActivityDate'].values.reshape(-1,1))\n",
    "#df['Tags'] = RobustScaler().fit_transform(df['Tags'].values.reshape(-1,1))\n",
    "df['AnswerCount'] = RobustScaler().fit_transform(df['AnswerCount'].values.reshape(-1,1))\n",
    "df['CommentCount'] = RobustScaler().fit_transform(df['CommentCount'].values.reshape(-1,1))\n"
   ]
  },
  {
   "cell_type": "code",
   "execution_count": 102,
   "metadata": {},
   "outputs": [],
   "source": [
    "## training and testing dataset devide\n",
    "# Class count\n",
    "# Define the prep_data function to extrac features \n",
    "def prep_data(df):\n",
    "    X = df.drop(['Class'],axis=1, inplace=False)  \n",
    "    X = np.array(X).astype(np.float)\n",
    "    y = df[['Class']]  \n",
    "    y = np.array(y).astype(np.float)\n",
    "    return X,y\n",
    "\n"
   ]
  },
  {
   "cell_type": "code",
   "execution_count": 103,
   "metadata": {},
   "outputs": [
    {
     "data": {
      "text/html": [
       "<div>\n",
       "<style scoped>\n",
       "    .dataframe tbody tr th:only-of-type {\n",
       "        vertical-align: middle;\n",
       "    }\n",
       "\n",
       "    .dataframe tbody tr th {\n",
       "        vertical-align: top;\n",
       "    }\n",
       "\n",
       "    .dataframe thead th {\n",
       "        text-align: right;\n",
       "    }\n",
       "</style>\n",
       "<table border=\"1\" class=\"dataframe\">\n",
       "  <thead>\n",
       "    <tr style=\"text-align: right;\">\n",
       "      <th></th>\n",
       "      <th>Id</th>\n",
       "      <th>PostTypeId</th>\n",
       "      <th>Days</th>\n",
       "      <th>Score</th>\n",
       "      <th>ViewCount</th>\n",
       "      <th>AnswerCount</th>\n",
       "      <th>CommentCount</th>\n",
       "      <th>Class</th>\n",
       "      <th>0</th>\n",
       "      <th>1</th>\n",
       "      <th>...</th>\n",
       "      <th>2115</th>\n",
       "      <th>2116</th>\n",
       "      <th>2117</th>\n",
       "      <th>2118</th>\n",
       "      <th>2119</th>\n",
       "      <th>2120</th>\n",
       "      <th>2121</th>\n",
       "      <th>2122</th>\n",
       "      <th>2123</th>\n",
       "      <th>2124</th>\n",
       "    </tr>\n",
       "  </thead>\n",
       "  <tbody>\n",
       "    <tr>\n",
       "      <th>0</th>\n",
       "      <td>-0.697477</td>\n",
       "      <td>0.0</td>\n",
       "      <td>1.203822</td>\n",
       "      <td>0.5</td>\n",
       "      <td>0.270477</td>\n",
       "      <td>0.0</td>\n",
       "      <td>-0.333333</td>\n",
       "      <td>0</td>\n",
       "      <td>0</td>\n",
       "      <td>0</td>\n",
       "      <td>...</td>\n",
       "      <td>0</td>\n",
       "      <td>0</td>\n",
       "      <td>0</td>\n",
       "      <td>0</td>\n",
       "      <td>0</td>\n",
       "      <td>0</td>\n",
       "      <td>0</td>\n",
       "      <td>0</td>\n",
       "      <td>0</td>\n",
       "      <td>0</td>\n",
       "    </tr>\n",
       "    <tr>\n",
       "      <th>1</th>\n",
       "      <td>-0.130830</td>\n",
       "      <td>0.0</td>\n",
       "      <td>0.128025</td>\n",
       "      <td>1.5</td>\n",
       "      <td>3.015884</td>\n",
       "      <td>0.0</td>\n",
       "      <td>0.333333</td>\n",
       "      <td>1</td>\n",
       "      <td>0</td>\n",
       "      <td>0</td>\n",
       "      <td>...</td>\n",
       "      <td>0</td>\n",
       "      <td>0</td>\n",
       "      <td>0</td>\n",
       "      <td>0</td>\n",
       "      <td>0</td>\n",
       "      <td>0</td>\n",
       "      <td>3</td>\n",
       "      <td>0</td>\n",
       "      <td>0</td>\n",
       "      <td>0</td>\n",
       "    </tr>\n",
       "    <tr>\n",
       "      <th>2</th>\n",
       "      <td>-0.130496</td>\n",
       "      <td>0.0</td>\n",
       "      <td>0.127389</td>\n",
       "      <td>6.0</td>\n",
       "      <td>2.747892</td>\n",
       "      <td>1.0</td>\n",
       "      <td>1.666667</td>\n",
       "      <td>1</td>\n",
       "      <td>0</td>\n",
       "      <td>0</td>\n",
       "      <td>...</td>\n",
       "      <td>0</td>\n",
       "      <td>0</td>\n",
       "      <td>0</td>\n",
       "      <td>0</td>\n",
       "      <td>0</td>\n",
       "      <td>0</td>\n",
       "      <td>0</td>\n",
       "      <td>0</td>\n",
       "      <td>0</td>\n",
       "      <td>0</td>\n",
       "    </tr>\n",
       "    <tr>\n",
       "      <th>3</th>\n",
       "      <td>-0.128335</td>\n",
       "      <td>0.0</td>\n",
       "      <td>0.124841</td>\n",
       "      <td>0.0</td>\n",
       "      <td>-0.242967</td>\n",
       "      <td>0.0</td>\n",
       "      <td>0.000000</td>\n",
       "      <td>0</td>\n",
       "      <td>0</td>\n",
       "      <td>0</td>\n",
       "      <td>...</td>\n",
       "      <td>0</td>\n",
       "      <td>0</td>\n",
       "      <td>0</td>\n",
       "      <td>0</td>\n",
       "      <td>0</td>\n",
       "      <td>0</td>\n",
       "      <td>0</td>\n",
       "      <td>0</td>\n",
       "      <td>0</td>\n",
       "      <td>0</td>\n",
       "    </tr>\n",
       "    <tr>\n",
       "      <th>4</th>\n",
       "      <td>0.438634</td>\n",
       "      <td>0.0</td>\n",
       "      <td>-0.419745</td>\n",
       "      <td>0.0</td>\n",
       "      <td>-0.198953</td>\n",
       "      <td>0.0</td>\n",
       "      <td>1.000000</td>\n",
       "      <td>0</td>\n",
       "      <td>0</td>\n",
       "      <td>0</td>\n",
       "      <td>...</td>\n",
       "      <td>0</td>\n",
       "      <td>0</td>\n",
       "      <td>0</td>\n",
       "      <td>0</td>\n",
       "      <td>0</td>\n",
       "      <td>0</td>\n",
       "      <td>3</td>\n",
       "      <td>0</td>\n",
       "      <td>0</td>\n",
       "      <td>0</td>\n",
       "    </tr>\n",
       "    <tr>\n",
       "      <th>...</th>\n",
       "      <td>...</td>\n",
       "      <td>...</td>\n",
       "      <td>...</td>\n",
       "      <td>...</td>\n",
       "      <td>...</td>\n",
       "      <td>...</td>\n",
       "      <td>...</td>\n",
       "      <td>...</td>\n",
       "      <td>...</td>\n",
       "      <td>...</td>\n",
       "      <td>...</td>\n",
       "      <td>...</td>\n",
       "      <td>...</td>\n",
       "      <td>...</td>\n",
       "      <td>...</td>\n",
       "      <td>...</td>\n",
       "      <td>...</td>\n",
       "      <td>...</td>\n",
       "      <td>...</td>\n",
       "      <td>...</td>\n",
       "      <td>...</td>\n",
       "    </tr>\n",
       "    <tr>\n",
       "      <th>394</th>\n",
       "      <td>-0.393435</td>\n",
       "      <td>0.0</td>\n",
       "      <td>0.431847</td>\n",
       "      <td>0.0</td>\n",
       "      <td>-0.242790</td>\n",
       "      <td>0.0</td>\n",
       "      <td>0.000000</td>\n",
       "      <td>0</td>\n",
       "      <td>0</td>\n",
       "      <td>0</td>\n",
       "      <td>...</td>\n",
       "      <td>0</td>\n",
       "      <td>0</td>\n",
       "      <td>0</td>\n",
       "      <td>0</td>\n",
       "      <td>0</td>\n",
       "      <td>0</td>\n",
       "      <td>0</td>\n",
       "      <td>0</td>\n",
       "      <td>0</td>\n",
       "      <td>0</td>\n",
       "    </tr>\n",
       "    <tr>\n",
       "      <th>395</th>\n",
       "      <td>0.495880</td>\n",
       "      <td>0.0</td>\n",
       "      <td>-0.475796</td>\n",
       "      <td>0.0</td>\n",
       "      <td>-0.158133</td>\n",
       "      <td>0.0</td>\n",
       "      <td>0.666667</td>\n",
       "      <td>0</td>\n",
       "      <td>0</td>\n",
       "      <td>0</td>\n",
       "      <td>...</td>\n",
       "      <td>0</td>\n",
       "      <td>0</td>\n",
       "      <td>0</td>\n",
       "      <td>0</td>\n",
       "      <td>0</td>\n",
       "      <td>0</td>\n",
       "      <td>0</td>\n",
       "      <td>0</td>\n",
       "      <td>0</td>\n",
       "      <td>0</td>\n",
       "    </tr>\n",
       "    <tr>\n",
       "      <th>396</th>\n",
       "      <td>-0.077737</td>\n",
       "      <td>0.0</td>\n",
       "      <td>0.074522</td>\n",
       "      <td>2.0</td>\n",
       "      <td>8.452746</td>\n",
       "      <td>0.0</td>\n",
       "      <td>1.333333</td>\n",
       "      <td>1</td>\n",
       "      <td>0</td>\n",
       "      <td>0</td>\n",
       "      <td>...</td>\n",
       "      <td>0</td>\n",
       "      <td>0</td>\n",
       "      <td>0</td>\n",
       "      <td>0</td>\n",
       "      <td>0</td>\n",
       "      <td>0</td>\n",
       "      <td>0</td>\n",
       "      <td>1</td>\n",
       "      <td>0</td>\n",
       "      <td>0</td>\n",
       "    </tr>\n",
       "    <tr>\n",
       "      <th>397</th>\n",
       "      <td>-0.353413</td>\n",
       "      <td>0.0</td>\n",
       "      <td>0.378981</td>\n",
       "      <td>1.5</td>\n",
       "      <td>1.264354</td>\n",
       "      <td>1.0</td>\n",
       "      <td>-0.333333</td>\n",
       "      <td>0</td>\n",
       "      <td>0</td>\n",
       "      <td>0</td>\n",
       "      <td>...</td>\n",
       "      <td>0</td>\n",
       "      <td>0</td>\n",
       "      <td>0</td>\n",
       "      <td>0</td>\n",
       "      <td>0</td>\n",
       "      <td>0</td>\n",
       "      <td>0</td>\n",
       "      <td>0</td>\n",
       "      <td>0</td>\n",
       "      <td>0</td>\n",
       "    </tr>\n",
       "    <tr>\n",
       "      <th>398</th>\n",
       "      <td>-0.341952</td>\n",
       "      <td>0.0</td>\n",
       "      <td>0.364968</td>\n",
       "      <td>0.5</td>\n",
       "      <td>0.245097</td>\n",
       "      <td>0.0</td>\n",
       "      <td>0.000000</td>\n",
       "      <td>0</td>\n",
       "      <td>0</td>\n",
       "      <td>0</td>\n",
       "      <td>...</td>\n",
       "      <td>0</td>\n",
       "      <td>0</td>\n",
       "      <td>0</td>\n",
       "      <td>0</td>\n",
       "      <td>0</td>\n",
       "      <td>0</td>\n",
       "      <td>0</td>\n",
       "      <td>0</td>\n",
       "      <td>0</td>\n",
       "      <td>0</td>\n",
       "    </tr>\n",
       "  </tbody>\n",
       "</table>\n",
       "<p>399 rows × 2476 columns</p>\n",
       "</div>"
      ],
      "text/plain": [
       "           Id  PostTypeId      Days  Score  ViewCount  AnswerCount  \\\n",
       "0   -0.697477         0.0  1.203822    0.5   0.270477          0.0   \n",
       "1   -0.130830         0.0  0.128025    1.5   3.015884          0.0   \n",
       "2   -0.130496         0.0  0.127389    6.0   2.747892          1.0   \n",
       "3   -0.128335         0.0  0.124841    0.0  -0.242967          0.0   \n",
       "4    0.438634         0.0 -0.419745    0.0  -0.198953          0.0   \n",
       "..        ...         ...       ...    ...        ...          ...   \n",
       "394 -0.393435         0.0  0.431847    0.0  -0.242790          0.0   \n",
       "395  0.495880         0.0 -0.475796    0.0  -0.158133          0.0   \n",
       "396 -0.077737         0.0  0.074522    2.0   8.452746          0.0   \n",
       "397 -0.353413         0.0  0.378981    1.5   1.264354          1.0   \n",
       "398 -0.341952         0.0  0.364968    0.5   0.245097          0.0   \n",
       "\n",
       "     CommentCount  Class  0  1  ...  2115  2116  2117  2118  2119  2120  2121  \\\n",
       "0       -0.333333      0  0  0  ...     0     0     0     0     0     0     0   \n",
       "1        0.333333      1  0  0  ...     0     0     0     0     0     0     3   \n",
       "2        1.666667      1  0  0  ...     0     0     0     0     0     0     0   \n",
       "3        0.000000      0  0  0  ...     0     0     0     0     0     0     0   \n",
       "4        1.000000      0  0  0  ...     0     0     0     0     0     0     3   \n",
       "..            ...    ... .. ..  ...   ...   ...   ...   ...   ...   ...   ...   \n",
       "394      0.000000      0  0  0  ...     0     0     0     0     0     0     0   \n",
       "395      0.666667      0  0  0  ...     0     0     0     0     0     0     0   \n",
       "396      1.333333      1  0  0  ...     0     0     0     0     0     0     0   \n",
       "397     -0.333333      0  0  0  ...     0     0     0     0     0     0     0   \n",
       "398      0.000000      0  0  0  ...     0     0     0     0     0     0     0   \n",
       "\n",
       "     2122  2123  2124  \n",
       "0       0     0     0  \n",
       "1       0     0     0  \n",
       "2       0     0     0  \n",
       "3       0     0     0  \n",
       "4       0     0     0  \n",
       "..    ...   ...   ...  \n",
       "394     0     0     0  \n",
       "395     0     0     0  \n",
       "396     1     0     0  \n",
       "397     0     0     0  \n",
       "398     0     0     0  \n",
       "\n",
       "[399 rows x 2476 columns]"
      ]
     },
     "execution_count": 103,
     "metadata": {},
     "output_type": "execute_result"
    }
   ],
   "source": [
    "df"
   ]
  },
  {
   "cell_type": "code",
   "execution_count": 104,
   "metadata": {},
   "outputs": [],
   "source": [
    "# Create X and y from the prep_data function \n",
    "X, y = prep_data(df)\n",
    "y= y.astype(np.int64)"
   ]
  },
  {
   "cell_type": "code",
   "execution_count": 105,
   "metadata": {},
   "outputs": [],
   "source": [
    "# Apply different ML Classification Algorithm\n",
    "\n",
    "X_train, X_test, y_train, y_test = train_test_split(X, y, test_size=0.2, random_state=None)"
   ]
  },
  {
   "cell_type": "code",
   "execution_count": 106,
   "metadata": {},
   "outputs": [
    {
     "name": "stderr",
     "output_type": "stream",
     "text": [
      "C:\\tools\\Anaconda3\\lib\\site-packages\\sklearn\\utils\\validation.py:73: DataConversionWarning: A column-vector y was passed when a 1d array was expected. Please change the shape of y to (n_samples, ), for example using ravel().\n",
      "  return f(**kwargs)\n"
     ]
    }
   ],
   "source": [
    "# ****** LogisticRegression Accuration test\n",
    "model = LogisticRegression()\n",
    "model.fit(X_train, y_train)\n",
    "y_pred = model.predict(X_test)"
   ]
  },
  {
   "cell_type": "code",
   "execution_count": 120,
   "metadata": {},
   "outputs": [
    {
     "data": {
      "text/plain": [
       "array([[70,  0],\n",
       "       [ 3,  7]], dtype=int64)"
      ]
     },
     "execution_count": 120,
     "metadata": {},
     "output_type": "execute_result"
    }
   ],
   "source": [
    "# confusion matrix\n",
    "from sklearn import metrics\n",
    "cnf_matrix = metrics.confusion_matrix(y_test, y_pred)\n",
    "cnf_matrix"
   ]
  },
  {
   "cell_type": "code",
   "execution_count": 125,
   "metadata": {},
   "outputs": [
    {
     "data": {
      "text/plain": [
       "Text(0.5, 257.44, 'Predicted label')"
      ]
     },
     "execution_count": 125,
     "metadata": {},
     "output_type": "execute_result"
    },
    {
     "data": {
      "image/png": "[encoded data removed]",
      "text/plain": [
       "<Figure size 432x288 with 2 Axes>"
      ]
     },
     "metadata": {
      "needs_background": "light"
     },
     "output_type": "display_data"
    }
   ],
   "source": [
    "import seaborn as sns\n",
    "from sklearn import metrics\n",
    "\n",
    "cnf_matrix = metrics.confusion_matrix(y_test, y_pred)\n",
    "class_names=[0,1] # name  of classes\n",
    "fig, ax = plt.subplots()\n",
    "tick_marks = np.arange(len(class_names))\n",
    "plt.xticks(tick_marks, class_names)\n",
    "plt.yticks(tick_marks, class_names)\n",
    "# create heatmap\n",
    "sns.heatmap(pd.DataFrame(cnf_matrix), annot=True, cmap=\"YlGnBu\" ,fmt='g')\n",
    "ax.xaxis.set_label_position(\"top\")\n",
    "plt.tight_layout()\n",
    "plt.title('Confusion matrix', y=1.1)\n",
    "plt.ylabel('Actual label')\n",
    "plt.xlabel('Predicted label')"
   ]
  },
  {
   "cell_type": "code",
   "execution_count": 124,
   "metadata": {},
   "outputs": [
    {
     "data": {
      "image/png": "[encoded data removed]",
      "text/plain": [
       "<Figure size 432x288 with 1 Axes>"
      ]
     },
     "metadata": {
      "needs_background": "light"
     },
     "output_type": "display_data"
    }
   ],
   "source": [
    "y_pred_proba = model.predict_proba(X_test)[::,1]\n",
    "fpr, tpr, _ = metrics.roc_curve(y_test,  y_pred_proba)\n",
    "auc = metrics.roc_auc_score(y_test, y_pred_proba)\n",
    "plt.plot(fpr,tpr,label=\"data 1, auc=\"+str(auc))\n",
    "plt.legend(loc=4)\n",
    "plt.show()"
   ]
  },
  {
   "cell_type": "code",
   "execution_count": 130,
   "metadata": {},
   "outputs": [
    {
     "name": "stderr",
     "output_type": "stream",
     "text": [
      "C:\\tools\\Anaconda3\\lib\\site-packages\\sklearn\\utils\\validation.py:73: DataConversionWarning: A column-vector y was passed when a 1d array was expected. Please change the shape of y to (n_samples, ), for example using ravel().\n",
      "  return f(**kwargs)\n"
     ]
    }
   ],
   "source": [
    "# instantiate classifier with default hyperparameters\n",
    "clf = SVC(probability=True)\n",
    "clf.fit(X_train, y_train)\n",
    "y_predsvm = clf.predict(X_test)\n"
   ]
  },
  {
   "cell_type": "code",
   "execution_count": 131,
   "metadata": {},
   "outputs": [
    {
     "data": {
      "text/plain": [
       "Text(0.5, 257.44, 'Predicted label')"
      ]
     },
     "execution_count": 131,
     "metadata": {},
     "output_type": "execute_result"
    },
    {
     "data": {
      "image/png": "[encoded data removed]",
      "text/plain": [
       "<Figure size 432x288 with 2 Axes>"
      ]
     },
     "metadata": {
      "needs_background": "light"
     },
     "output_type": "display_data"
    }
   ],
   "source": [
    "import seaborn as sns\n",
    "from sklearn import metrics\n",
    "\n",
    "cnf_matrix = metrics.confusion_matrix(y_test, y_predsvm)\n",
    "class_names=[0,1] # name  of classes\n",
    "fig, ax = plt.subplots()\n",
    "tick_marks = np.arange(len(class_names))\n",
    "plt.xticks(tick_marks, class_names)\n",
    "plt.yticks(tick_marks, class_names)\n",
    "# create heatmap\n",
    "sns.heatmap(pd.DataFrame(cnf_matrix), annot=True, cmap=\"YlGnBu\" ,fmt='g')\n",
    "ax.xaxis.set_label_position(\"top\")\n",
    "plt.tight_layout()\n",
    "plt.title('Confusion matrix', y=1.1)\n",
    "plt.ylabel('Actual label')\n",
    "plt.xlabel('Predicted label')"
   ]
  },
  {
   "cell_type": "code",
   "execution_count": 134,
   "metadata": {},
   "outputs": [
    {
     "data": {
      "image/png": "[encoded data removed]",
      "text/plain": [
       "<Figure size 432x288 with 1 Axes>"
      ]
     },
     "metadata": {
      "needs_background": "light"
     },
     "output_type": "display_data"
    }
   ],
   "source": [
    "y_pred_proba = clf.predict_proba(X_test)[::,1]\n",
    "fpr, tpr, _ = metrics.roc_curve(y_test,  y_pred_proba)\n",
    "auc = metrics.roc_auc_score(y_test, y_pred_proba)\n",
    "plt.plot(fpr,tpr,label=\"data 1, auc=\"+str(auc))\n",
    "plt.legend(loc=4)\n",
    "plt.show()"
   ]
  },
  {
   "cell_type": "code",
   "execution_count": 108,
   "metadata": {},
   "outputs": [],
   "source": [
    "##LogisticRegression  Machine learning evaluation matrix\n",
    "accuracy = accuracy_score(y_test, y_pred)\n",
    "precision, recall, thresholds = precision_recall_curve(y_test, y_pred)\n",
    "pre_scor= precision_score(y_test, y_pred)\n",
    "re_scor = recall_score(y_test, y_pred)\n",
    "f1_scor = f1_score(y_test, y_pred)"
   ]
  },
  {
   "cell_type": "code",
   "execution_count": 109,
   "metadata": {},
   "outputs": [
    {
     "name": "stderr",
     "output_type": "stream",
     "text": [
      "<ipython-input-109-e77ce5ca8c56>:5: DataConversionWarning: A column-vector y was passed when a 1d array was expected. Please change the shape of y to (n_samples,), for example using ravel().\n",
      "  rfclf.fit(X_train, y_train)\n"
     ]
    }
   ],
   "source": [
    "## Random forest classifier algorithm\n",
    "#Create a Gaussian Classifier\n",
    "rfclf=RandomForestClassifier(n_estimators=100)\n",
    "#Train the model using the training sets y_pred=clf.predict(X_test)\n",
    "rfclf.fit(X_train, y_train)\n",
    "y_pred_rf=rfclf.predict(X_test)\n",
    "## Random Forest Evaluation\n",
    "rf_accuracy = accuracy_score(y_test, y_pred_rf)\n",
    "rf_precision= precision_score(y_test, y_pred_rf)\n",
    "rf_recall = recall_score(y_test, y_pred_rf)\n",
    "rf_f1 = f1_score(y_test, y_pred_rf)\n"
   ]
  },
  {
   "cell_type": "code",
   "execution_count": 135,
   "metadata": {},
   "outputs": [
    {
     "data": {
      "text/plain": [
       "Text(0.5, 257.44, 'Predicted label')"
      ]
     },
     "execution_count": 135,
     "metadata": {},
     "output_type": "execute_result"
    },
    {
     "data": {
      "image/png": "[encoded data removed]",
      "text/plain": [
       "<Figure size 432x288 with 2 Axes>"
      ]
     },
     "metadata": {
      "needs_background": "light"
     },
     "output_type": "display_data"
    }
   ],
   "source": [
    "import seaborn as sns\n",
    "from sklearn import metrics\n",
    "\n",
    "cnf_matrix = metrics.confusion_matrix(y_test, y_pred_rf)\n",
    "class_names=[0,1] # name  of classes\n",
    "fig, ax = plt.subplots()\n",
    "tick_marks = np.arange(len(class_names))\n",
    "plt.xticks(tick_marks, class_names)\n",
    "plt.yticks(tick_marks, class_names)\n",
    "# create heatmap\n",
    "sns.heatmap(pd.DataFrame(cnf_matrix), annot=True, cmap=\"YlGnBu\" ,fmt='g')\n",
    "ax.xaxis.set_label_position(\"top\")\n",
    "plt.tight_layout()\n",
    "plt.title('Confusion matrix', y=1.1)\n",
    "plt.ylabel('Actual label')\n",
    "plt.xlabel('Predicted label')"
   ]
  },
  {
   "cell_type": "code",
   "execution_count": 136,
   "metadata": {},
   "outputs": [
    {
     "data": {
      "image/png": "[encoded data removed]",
      "text/plain": [
       "<Figure size 432x288 with 1 Axes>"
      ]
     },
     "metadata": {
      "needs_background": "light"
     },
     "output_type": "display_data"
    }
   ],
   "source": [
    "y_pred_proba = rfclf.predict_proba(X_test)[::,1]\n",
    "fpr, tpr, _ = metrics.roc_curve(y_test,  y_pred_proba)\n",
    "auc = metrics.roc_auc_score(y_test, y_pred_proba)\n",
    "plt.plot(fpr,tpr,label=\"data 1, auc=\"+str(auc))\n",
    "plt.legend(loc=4)\n",
    "plt.show()"
   ]
  },
  {
   "cell_type": "code",
   "execution_count": 110,
   "metadata": {},
   "outputs": [],
   "source": [
    "## Decision Tree Classifier algorithm\n",
    "# Create Decision Tree classifer object\n",
    "dtclf = DecisionTreeClassifier()\n",
    "# Train Decision Tree Classifer\n",
    "dtclf = dtclf.fit(X_train,y_train)\n",
    "#Predict the response for test dataset\n",
    "y_pred_dt = dtclf.predict(X_test)\n",
    "\n",
    "## Decision Tree Evaluation\n",
    "dt_accuracy = accuracy_score(y_test, y_pred_dt)\n",
    "dt_precision= precision_score(y_test, y_pred_dt)\n",
    "dt_recall = recall_score(y_test, y_pred_dt)\n",
    "dt_f1 = f1_score(y_test, y_pred_dt)"
   ]
  },
  {
   "cell_type": "code",
   "execution_count": 137,
   "metadata": {},
   "outputs": [
    {
     "data": {
      "text/plain": [
       "Text(0.5, 257.44, 'Predicted label')"
      ]
     },
     "execution_count": 137,
     "metadata": {},
     "output_type": "execute_result"
    },
    {
     "data": {
      "image/png": "[encoded data removed]",
      "text/plain": [
       "<Figure size 432x288 with 2 Axes>"
      ]
     },
     "metadata": {
      "needs_background": "light"
     },
     "output_type": "display_data"
    }
   ],
   "source": [
    "import seaborn as sns\n",
    "from sklearn import metrics\n",
    "\n",
    "cnf_matrix = metrics.confusion_matrix(y_test, y_pred_dt)\n",
    "class_names=[0,1] # name  of classes\n",
    "fig, ax = plt.subplots()\n",
    "tick_marks = np.arange(len(class_names))\n",
    "plt.xticks(tick_marks, class_names)\n",
    "plt.yticks(tick_marks, class_names)\n",
    "# create heatmap\n",
    "sns.heatmap(pd.DataFrame(cnf_matrix), annot=True, cmap=\"YlGnBu\" ,fmt='g')\n",
    "ax.xaxis.set_label_position(\"top\")\n",
    "plt.tight_layout()\n",
    "plt.title('Confusion matrix', y=1.1)\n",
    "plt.ylabel('Actual label')\n",
    "plt.xlabel('Predicted label')"
   ]
  },
  {
   "cell_type": "code",
   "execution_count": 138,
   "metadata": {},
   "outputs": [
    {
     "data": {
      "image/png": "[encoded data removed]",
      "text/plain": [
       "<Figure size 432x288 with 1 Axes>"
      ]
     },
     "metadata": {
      "needs_background": "light"
     },
     "output_type": "display_data"
    }
   ],
   "source": [
    "y_pred_proba = dtclf.predict_proba(X_test)[::,1]\n",
    "fpr, tpr, _ = metrics.roc_curve(y_test,  y_pred_proba)\n",
    "auc = metrics.roc_auc_score(y_test, y_pred_proba)\n",
    "plt.plot(fpr,tpr,label=\"data 1, auc=\"+str(auc))\n",
    "plt.legend(loc=4)\n",
    "plt.show()"
   ]
  },
  {
   "cell_type": "code",
   "execution_count": 111,
   "metadata": {},
   "outputs": [
    {
     "name": "stdout",
     "output_type": "stream",
     "text": [
      "==================== Logistic Regression Evaluation Score ======================\n",
      "Accuracy: 96.25%\n",
      "\n",
      " Precision Score:  100.00%\n",
      "\n",
      " Recall Score:  70.00%\n",
      "\n",
      " F1-Measure: 82.35%\n",
      "=============End Evaluation ===============================\n"
     ]
    }
   ],
   "source": [
    "print(\"==================== Logistic Regression Evaluation Score ======================\")\n",
    "print(\"Accuracy: %.2f%%\" % (accuracy * 100.0))\n",
    "print(\"\\n Precision Score:  %.2f%%\" % (pre_scor * 100.0))\n",
    "print(\"\\n Recall Score:  %.2f%%\" % (re_scor * 100.0))\n",
    "print('\\n F1-Measure: %.2f%%' % (f1_scor * 100.0))\n",
    "\n",
    "print(\"=============End Evaluation ===============================\")"
   ]
  },
  {
   "cell_type": "code",
   "execution_count": null,
   "metadata": {},
   "outputs": [],
   "source": []
  },
  {
   "cell_type": "code",
   "execution_count": 112,
   "metadata": {},
   "outputs": [],
   "source": [
    "## SVM Algorithm Apply\n",
    "accuracy = accuracy_score(y_test, y_predsvm)\n",
    "pre_scor= precision_score(y_test, y_predsvm)\n",
    "re_scor = recall_score(y_test, y_predsvm)\n",
    "f1_scor = f1_score(y_test, y_predsvm)"
   ]
  },
  {
   "cell_type": "code",
   "execution_count": 113,
   "metadata": {},
   "outputs": [
    {
     "name": "stdout",
     "output_type": "stream",
     "text": [
      "==================== SVM Evaluation Algorithm ======================\n",
      "Accuracy: 93.75%\n",
      "\n",
      " Precision Score:  100.00%\n",
      "\n",
      " Recall Score:  50.00%\n",
      "\n",
      " F1-Measure: 66.67%\n",
      "=============End Evaluation ===============================\n"
     ]
    }
   ],
   "source": [
    "print(\"==================== SVM Evaluation Algorithm ======================\")\n",
    "print(\"Accuracy: %.2f%%\" % (accuracy * 100.0))\n",
    "print(\"\\n Precision Score:  %.2f%%\" % (pre_scor * 100.0))\n",
    "print(\"\\n Recall Score:  %.2f%%\" % (re_scor * 100.0))\n",
    "print('\\n F1-Measure: %.2f%%' % (f1_scor * 100.0))\n",
    "\n",
    "print(\"=============End Evaluation ===============================\")\n"
   ]
  },
  {
   "cell_type": "code",
   "execution_count": 114,
   "metadata": {},
   "outputs": [
    {
     "name": "stdout",
     "output_type": "stream",
     "text": [
      "==================== Random Forest Classifier Algorithm ======================\n",
      "Accuracy: 91.25%\n",
      "\n",
      " Precision Score:  100.00%\n",
      "\n",
      " Recall Score:  30.00%\n",
      "\n",
      " F1-Measure: 46.15%\n"
     ]
    }
   ],
   "source": [
    "\n",
    "print(\"==================== Random Forest Classifier Algorithm ======================\")\n",
    "print(\"Accuracy: %.2f%%\" % (rf_accuracy * 100.0))\n",
    "print(\"\\n Precision Score:  %.2f%%\" % (rf_precision * 100.0))\n",
    "print(\"\\n Recall Score:  %.2f%%\" % (rf_recall * 100.0))\n",
    "print('\\n F1-Measure: %.2f%%' % (rf_f1 * 100.0))"
   ]
  },
  {
   "cell_type": "code",
   "execution_count": 115,
   "metadata": {},
   "outputs": [
    {
     "name": "stdout",
     "output_type": "stream",
     "text": [
      "==================== Decision Tree Classifier Algorithm ======================\n",
      "Accuracy: 100.00%\n",
      "\n",
      " Precision Score:  100.00%\n",
      "\n",
      " Recall Score:  100.00%\n",
      "\n",
      " F1-Measure: 100.00%\n"
     ]
    }
   ],
   "source": [
    "print(\"==================== Decision Tree Classifier Algorithm ======================\")\n",
    "print(\"Accuracy: %.2f%%\" % (dt_accuracy * 100.0))\n",
    "print(\"\\n Precision Score:  %.2f%%\" % (dt_precision * 100.0))\n",
    "print(\"\\n Recall Score:  %.2f%%\" % (dt_recall * 100.0))\n",
    "print('\\n F1-Measure: %.2f%%' % (dt_f1 * 100.0))"
   ]
  },
  {
   "cell_type": "code",
   "execution_count": null,
   "metadata": {},
   "outputs": [],
   "source": []
  }
 ],
 "metadata": {
  "kernelspec": {
   "display_name": "Python 3",
   "language": "python",
   "name": "python3"
  },
  "language_info": {
   "codemirror_mode": {
    "name": "ipython",
    "version": 3
   },
   "file_extension": ".py",
   "mimetype": "text/x-python",
   "name": "python",
   "nbconvert_exporter": "python",
   "pygments_lexer": "ipython3",
   "version": "3.8.3"
  }
 },
 "nbformat": 4,
 "nbformat_minor": 4
}
